{
  "nbformat": 4,
  "nbformat_minor": 0,
  "metadata": {
    "colab": {
      "name": "autovalori.ipynb",
      "provenance": [],
      "collapsed_sections": []
    },
    "kernelspec": {
      "name": "python3",
      "display_name": "Python 3"
    },
    "language_info": {
      "name": "python"
    }
  },
  "cells": [
    {
      "cell_type": "markdown",
      "source": [
        "# **Autovalori**"
      ],
      "metadata": {
        "id": "TUWS75TVTHqn"
      }
    },
    {
      "cell_type": "code",
      "source": [
        "import numpy as np"
      ],
      "metadata": {
        "id": "Qr_tZ1SeS-3X"
      },
      "execution_count": null,
      "outputs": []
    },
    {
      "cell_type": "markdown",
      "source": [
        "La funzione numpy.linalg.eig(A) restituisce una coppia di autovelori e autovettori di A. <br>\n",
        "Il vettore w contiene gli autovalori. La matrice v contiene i corrispondenti autovettori, uno per colonna. <br>"
      ],
      "metadata": {
        "id": "ImPcbHa0TPZM"
      }
    },
    {
      "cell_type": "code",
      "execution_count": null,
      "metadata": {
        "colab": {
          "base_uri": "https://localhost:8080/"
        },
        "id": "LjVwYhbsSwsZ",
        "outputId": "bbc2aa3d-dacc-41c5-cc28-8b9ddfff5151"
      },
      "outputs": [
        {
          "output_type": "stream",
          "name": "stdout",
          "text": [
            "[ 4.31662479e+00 -2.31662479e+00  1.93041509e-17]\n",
            "[[ 0.58428153  0.73595785  0.40824829]\n",
            " [ 0.80407569 -0.38198836 -0.81649658]\n",
            " [ 0.10989708 -0.55897311  0.40824829]]\n"
          ]
        }
      ],
      "source": [
        "A = np.array([  [1, 2, 3],\n",
        "                [3, 2, 1], \n",
        "                [1, 0, -1]])\n",
        "\n",
        "w, v = np.linalg.eig(A)\n",
        "print(w)\n",
        "print(v)"
      ]
    },
    {
      "cell_type": "markdown",
      "source": [
        "Possiamo controllare che un autovalore in w e il rispettivo autovettore rispettano la condizione 𝐴𝑥= λ𝑥"
      ],
      "metadata": {
        "id": "KENIfUV7TcfB"
      }
    },
    {
      "cell_type": "code",
      "source": [
        "u = v[:,1] # Estrazione del secondo autovettore\n",
        "print(u)\n",
        "print(np.linalg.norm(u, ord=2)) # Controllo della norma\n",
        "\n",
        "lam = w[1] # Estrazione del secondo autovalore\n",
        "print(lam)\n",
        "\n",
        "print(np.dot(A,u))\t# Calcolo e stampa di 𝐴𝑥\n",
        "print(lam*u)\t    # Calcolo e stampa di 𝜆𝑥"
      ],
      "metadata": {
        "colab": {
          "base_uri": "https://localhost:8080/"
        },
        "id": "CF63B4TsS4d8",
        "outputId": "d929f5b1-fe52-477c-88aa-94a7e7da7398"
      },
      "execution_count": null,
      "outputs": [
        {
          "output_type": "stream",
          "name": "stdout",
          "text": [
            "[ 0.73595785 -0.38198836 -0.55897311]\n",
            "1.0\n",
            "-2.3166247903554\n",
            "[-1.7049382   0.88492371  1.29493096]\n",
            "[-1.7049382   0.88492371  1.29493096]\n"
          ]
        }
      ]
    },
    {
      "cell_type": "markdown",
      "source": [
        "Gli autovalori restituiti non sono ordinati!<br>\n",
        "È spesso utile ordinare gli autovalori in ordine discendente, e riordinare gli autovettori per farli ancora corrispondere.<br>\n",
        "Usiamo un ordinamento “indiretto” tramite la funzione argsort. Un ordinamento indiretto restituisce una lista di indici, da applicare successimanete ai vettori w e v.\n"
      ],
      "metadata": {
        "id": "PtAgedzbTlE6"
      }
    },
    {
      "cell_type": "code",
      "source": [
        "# Ordinamento degli autovalori\n",
        "w, v = np.linalg.eig(A)\n",
        "idx = np.argsort(w)\n",
        "w = w[idx]\n",
        "v = v[:,idx]\n",
        "print(w)\n",
        "print(v)"
      ],
      "metadata": {
        "colab": {
          "base_uri": "https://localhost:8080/"
        },
        "id": "rmtAI1IkS6A_",
        "outputId": "70723070-b4ce-4880-d83e-85c217804c2b"
      },
      "execution_count": null,
      "outputs": [
        {
          "output_type": "stream",
          "name": "stdout",
          "text": [
            "[-2.31662479e+00  1.93041509e-17  4.31662479e+00]\n",
            "[[ 0.73595785  0.40824829  0.58428153]\n",
            " [-0.38198836 -0.81649658  0.80407569]\n",
            " [-0.55897311  0.40824829  0.10989708]]\n"
          ]
        }
      ]
    },
    {
      "cell_type": "markdown",
      "source": [
        "\n",
        "\n",
        "---\n",
        "\n"
      ],
      "metadata": {
        "id": "m53XraF8UdyH"
      }
    }
  ]
}
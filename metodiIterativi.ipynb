{
  "nbformat": 4,
  "nbformat_minor": 0,
  "metadata": {
    "colab": {
      "name": "metodiIterativi.ipynb",
      "provenance": [],
      "collapsed_sections": []
    },
    "kernelspec": {
      "name": "python3",
      "display_name": "Python 3"
    },
    "language_info": {
      "name": "python"
    }
  },
  "cells": [
    {
      "cell_type": "code",
      "source": [
        "import numpy as np\n",
        "\n",
        "np.set_printoptions(precision=15)"
      ],
      "metadata": {
        "id": "Qiiw22Ca9-kg"
      },
      "execution_count": 49,
      "outputs": []
    },
    {
      "cell_type": "markdown",
      "source": [
        "# **Jacobi**"
      ],
      "metadata": {
        "id": "XLR8N6Y1E9nG"
      }
    },
    {
      "cell_type": "code",
      "source": [
        "def jacobi(A: np.array, b: np.array, x0: np.array, toll: float, n_max: int, verbose=False):\n",
        "    \"\"\"\n",
        "    Risoluzione di un sistema lineare Ax=b data un'approssimazione iniziale x0.\n",
        "    L'algoritmo implementa il metodo iterativo di Jacobi.\n",
        "\n",
        "    :param A: matrice dei coefficienti\n",
        "    :param b: vettore colonna dei termini noti\n",
        "    :param x0: approssimazione iniziale\n",
        "    :param toll: tolleranza, ovvero precisione relativa richiesta\n",
        "    :param n_max: massimo numero di iterazioni\n",
        "    :param verbose: se True, stampa informazioni sulle iterazioni\n",
        "    :return: soluzione x, stima dell'errore, numero di iterazioni eseguite \n",
        "    :rtype: np.array, float, int\n",
        "    \"\"\"\n",
        "\n",
        "    # Inizializzazioni\n",
        "    rows = np.size(A, 0)\n",
        "    cols = np.size(A, 1)\n",
        "    n_iter = 0\n",
        "    stima_errore = 1.0\n",
        "    x = np.copy(x0)\n",
        "\n",
        "    # Processo iterativo\n",
        "    while n_iter < n_max and stima_errore >= toll:\n",
        "\n",
        "        for i in range(rows):\n",
        "\n",
        "            somma1 = 0\n",
        "            for j in range(i):\n",
        "                somma1 += A[i, j] * x0[j]\n",
        "\n",
        "            somma2 = 0\n",
        "            for j in range(i+1, cols):\n",
        "                somma2 += A[i, j] * x0[j]\n",
        "\n",
        "            x[i] = (b[i] - somma1 - somma2) / A[i, i]\n",
        "\n",
        "        if verbose:\n",
        "            print(\"valore di x alla iterazione numero \",\n",
        "                  n_iter, \", stima errore =\", stima_errore)\n",
        "            print(x.T)\n",
        "\n",
        "        stima_errore = np.linalg.norm(x-x0, np.inf) / np.linalg.norm(x, np.inf)\n",
        "        n_iter += 1\n",
        "        x0 = np.copy(x)\n",
        "\n",
        "    return x, stima_errore, n_iter"
      ],
      "metadata": {
        "id": "1Vy0kX7hEoOk"
      },
      "execution_count": 50,
      "outputs": []
    },
    {
      "cell_type": "code",
      "execution_count": 51,
      "metadata": {
        "id": "xhCuydEBM_-U"
      },
      "outputs": [],
      "source": [
        "def jacobi_decomposizione(A, b, x0, toll, n_max, verbose=False):\n",
        "    \"\"\"\n",
        "    Risoluzione di un sistema lineare Ax=b data un'approssimazione iniziale x0.\n",
        "    L'algoritmo implementa il metodo iterativo di Jacobi usando la decomposizione \n",
        "    della matrice dei coefficienti A = D + C.\n",
        "\n",
        "    :param A: matrice dei coefficienti\n",
        "    :param b: vettore colonna dei termini noti\n",
        "    :param x0: approssimazione iniziale\n",
        "    :param toll: tolleranza, ovvero precisione relativa richiesta\n",
        "    :param n_max: massimo numero di iterazioni\n",
        "    :param verbose: se True, stampa informazioni sulle iterazioni\n",
        "    :return: soluzione x, stima dell'errore, numero di iterazioni eseguite\n",
        "    :rtype: np.array, float, int\n",
        "    \"\"\"\n",
        "\n",
        "    # calcolo matrici D e C\n",
        "    D = np.diag(np.diag(A))\n",
        "    C = A - D\n",
        "\n",
        "    # Inizializzazioni\n",
        "    n_iter = 0\n",
        "    x = np.copy(x0)\n",
        "\n",
        "    # Processo iterativo\n",
        "    while n_iter < n_max:\n",
        "        x = np.dot(np.linalg.inv(D), (b - np.dot(C, x0)))\n",
        "\n",
        "        stima_errore = np.linalg.norm(x-x0, np.inf) / np.linalg.norm(x, np.inf)\n",
        "        if stima_errore <= toll:\n",
        "            break\n",
        "        x0 = np.copy(x)\n",
        "        n_iter += 1\n",
        "        if verbose:\n",
        "            print(\"valore di x alla iterazione numero \",\n",
        "                  n_iter, \", stima errore =\", stima_errore)\n",
        "            print(x.T)\n",
        "\n",
        "    return x, stima_errore, n_iter"
      ]
    },
    {
      "cell_type": "code",
      "source": [
        "def jacobi_decomposizione_ottimizzato(A, b, x0, toll, n_max, verbose=False):\n",
        "    \"\"\"\n",
        "    Risoluzione di un sistema lineare Ax=b data un'approssimazione iniziale x0.\n",
        "    L'algoritmo implementa il metodo iterativo di Jacobi usando la decomposizione \n",
        "    della matrice dei coefficienti A = D + C.\n",
        "\n",
        "    :param A: matrice dei coefficienti\n",
        "    :param b: vettore colonna dei termini noti\n",
        "    :param x0: approssimazione iniziale\n",
        "    :param toll: tolleranza, ovvero precisione relativa richiesta\n",
        "    :param n_max: massimo numero di iterazioni\n",
        "    :param verbose: se True, stampa informazioni sulle iterazioni\n",
        "    :return: soluzione x, stima dell'errore, numero di iterazioni eseguite\n",
        "    :rtype: np.array, float, int\n",
        "    \"\"\"\n",
        "\n",
        "    # calcolo matrici D e C\n",
        "    D = np.diag(np.diag(A))\n",
        "    C = A - D\n",
        "\n",
        "    # Inizializzazioni\n",
        "    n_iter = 0\n",
        "    x = np.copy(x0)\n",
        "\n",
        "    # Matrici iterative\n",
        "    B = np.dot(np.linalg.inv(D), b)\n",
        "    c = np.dot(np.linalg.inv(D), C)\n",
        "\n",
        "    # Processo iterativo\n",
        "    while n_iter < n_max:\n",
        "        x = B - np.dot(c, x0)\n",
        "\n",
        "        stima_errore = np.linalg.norm(x-x0, np.inf) / np.linalg.norm(x, np.inf)\n",
        "        if stima_errore <= toll:\n",
        "            break\n",
        "        x0 = np.copy(x)\n",
        "        n_iter += 1\n",
        "        if verbose:\n",
        "            print(\"valore di x alla iterazione numero \",\n",
        "                  n_iter, \", stima errore =\", stima_errore)\n",
        "            print(x.T)\n",
        "\n",
        "    return x, stima_errore, n_iter"
      ],
      "metadata": {
        "id": "ZRxjU6xiclh6"
      },
      "execution_count": 52,
      "outputs": []
    },
    {
      "cell_type": "markdown",
      "source": [
        "# **Gauss Seidel**"
      ],
      "metadata": {
        "id": "_I7j7kJdFA3P"
      }
    },
    {
      "cell_type": "code",
      "source": [
        "def gauss_seidel(A: np.array, b: np.array, x0: np.array, toll: float, n_max: int, verbose=False):\n",
        "    \"\"\"\n",
        "    Risoluzione di un sistema lineare Ax=b data un'approssimazione iniziale x0.\n",
        "    L'algoritmo implementa il metodo iterativo di Gauss Seidel.\n",
        "\n",
        "    :param A: matrice dei coefficienti\n",
        "    :param b: vettore colonna dei termini noti\n",
        "    :param x0: approssimazione iniziale\n",
        "    :param toll: tolleranza, ovvero precisione relativa richiesta\n",
        "    :param n_max: massimo numero di iterazioni\n",
        "    :param verbose: se True, stampa informazioni sulle iterazioni\n",
        "    :return: soluzione x, stima dell'errore, numero di iterazioni eseguite\n",
        "    :rtype: np.array, float, int\n",
        "    \"\"\"\n",
        "\n",
        "    # Inizializzazioni\n",
        "    rows = np.size(A, 0)\n",
        "    n_iter = 0\n",
        "    stima_errore = 1.0\n",
        "    x = np.copy(x0)\n",
        "\n",
        "    # Processo iterativo\n",
        "    while n_iter < n_max and stima_errore >= toll:\n",
        "\n",
        "        for i in range(0, rows):\n",
        "\n",
        "            somma1 = 0\n",
        "            for j in range(i):\n",
        "                somma1 = somma1 + A[i, j] * x[j]\n",
        "\n",
        "            somma2 = 0\n",
        "            for j in range(i+1, rows):\n",
        "                somma2 = somma2 + A[i, j] * x0[j]\n",
        "\n",
        "            x[i] = (b[i] - somma1 - somma2) / A[i, i]\n",
        "\n",
        "        if verbose:\n",
        "            print(\"valore di x alla iterazione numero \", n_iter)\n",
        "            print(x.T)\n",
        "\n",
        "        stima_errore = np.linalg.norm(x-x0, np.inf) / np.linalg.norm(x, np.inf)\n",
        "        n_iter += 1\n",
        "        x0 = np.copy(x)\n",
        "\n",
        "    return x, stima_errore, n_iter\n",
        "\n",
        "\n"
      ],
      "metadata": {
        "id": "OYbWJQriB0Tt"
      },
      "execution_count": 53,
      "outputs": []
    },
    {
      "cell_type": "code",
      "source": [
        "def gauss_seidel_decomposizione(A, b, x0, toll, iter_max, verbose=False):\n",
        "    \"\"\"\n",
        "    Risoluzione di un sistema lineare Ax=b data un'approssimazione iniziale x0.\n",
        "    L'algoritmo implementa il metodo iterativo di Gauss Seidel usando la decomposizione \n",
        "    della matrice dei coefficienti A = L + U.\n",
        "\n",
        "    :param A: matrice dei coefficienti\n",
        "    :param b: vettore colonna dei termini noti\n",
        "    :param x0: approssimazione iniziale\n",
        "    :param toll: tolleranza, ovvero precisione relativa richiesta\n",
        "    :param n_max: massimo numero di iterazioni\n",
        "    :param verbose: se True, stampa informazioni sulle iterazioni\n",
        "    :return: soluzione x, stima dell'errore, numero di iterazioni eseguite\n",
        "    :rtype: np.array, float, int\n",
        "    \"\"\"\n",
        "\n",
        "    # calcolo matrici L=lower e U=upper\n",
        "    lower = np.tril(A)\n",
        "    upper = A - lower\n",
        "\n",
        "    # Inizializzazioni\n",
        "    n_iter = 0\n",
        "    x = np.copy(x0)\n",
        "\n",
        "    # Processo iterativo\n",
        "    while n_iter < iter_max:\n",
        "        x = np.dot(np.linalg.inv(lower), (b - np.dot(upper, x0)))\n",
        "        n_iter += 1\n",
        "        stima_errore = np.linalg.norm(x-x0, np.inf) / np.linalg.norm(x, np.inf)\n",
        "        if stima_errore <= toll:\n",
        "            break\n",
        "        x0 = np.copy(x)\n",
        "\n",
        "    return x, stima_errore, n_iter\n"
      ],
      "metadata": {
        "id": "IJPVHuHjEx7F"
      },
      "execution_count": 54,
      "outputs": []
    },
    {
      "cell_type": "code",
      "source": [
        "def gauss_seidel_decomposizione_ottimizzato(A, b, x0, toll, iter_max, verbose=False):\n",
        "    \"\"\"\n",
        "    Risoluzione di un sistema lineare Ax=b data un'approssimazione iniziale x0.\n",
        "    L'algoritmo implementa il metodo iterativo di Gauss Seidel usando la decomposizione \n",
        "    della matrice dei coefficienti A = L + U.\n",
        "\n",
        "    :param A: matrice dei coefficienti\n",
        "    :param b: vettore colonna dei termini noti\n",
        "    :param x0: approssimazione iniziale\n",
        "    :param toll: tolleranza, ovvero precisione relativa richiesta\n",
        "    :param n_max: massimo numero di iterazioni\n",
        "    :param verbose: se True, stampa informazioni sulle iterazioni\n",
        "    :return: soluzione x, stima dell'errore, numero di iterazioni eseguite\n",
        "    :rtype: np.array, float, int\n",
        "    \"\"\"\n",
        "\n",
        "    # calcolo matrici L=lower e U=upper\n",
        "    lower = np.tril(A)\n",
        "    upper = A - lower\n",
        "\n",
        "    # Inizializzazioni\n",
        "    n_iter = 0\n",
        "    x = np.copy(x0)\n",
        "\n",
        "    # Matrici iterative\n",
        "    B = np.dot(np.linalg.inv(lower), b)\n",
        "    c = np.dot(np.linalg.inv(lower), upper)\n",
        "\n",
        "    # Processo iterativo\n",
        "    while n_iter < iter_max:\n",
        "        x = B - np.dot(c, x0)\n",
        "        n_iter += 1\n",
        "        stima_errore = np.linalg.norm(x-x0, np.inf) / np.linalg.norm(x, np.inf)\n",
        "        if stima_errore <= toll:\n",
        "            break\n",
        "        x0 = np.copy(x)\n",
        "\n",
        "    return x, stima_errore, n_iter\n"
      ],
      "metadata": {
        "id": "YFn9JhD7csVE"
      },
      "execution_count": 55,
      "outputs": []
    },
    {
      "cell_type": "markdown",
      "source": [
        "# **Script**"
      ],
      "metadata": {
        "id": "qB42Iv6YFEQO"
      }
    },
    {
      "cell_type": "code",
      "source": [
        "A = np.array([  [15, -6, 1, 2],\n",
        "                [1, 10, -2, 5],\n",
        "                [-4, 1, 10, -3],\n",
        "                [-5, -2, -1, 10]],\n",
        "                dtype=float)\n",
        "b = np.array([[9],\n",
        "              [37],\n",
        "              [43],\n",
        "              [3]],\n",
        "             dtype=float)\n",
        "print(\"Matrice completa del sistema:\")\n",
        "print(np.append(A, b, 1))\n",
        "print(\"Indice di condizionamento:\", np.linalg.cond(A))\n",
        "\n",
        "xVero = np.array([[2],\n",
        "                  [4],\n",
        "                  [5],\n",
        "                  [1]],\n",
        "                 dtype=float)\n",
        "print(\"Soluzione carta e penna:\")\n",
        "print(xVero)\n",
        "\n",
        "xNumpy = np.linalg.solve(A, b)\n",
        "print(\"Soluzione numpy.linalg.solve:\")\n",
        "print(xNumpy)\n",
        "\n",
        "x0 = np.zeros((np.size(b, 0),1))\n",
        "toll = 1e-15\n",
        "nMax = 100\n"
      ],
      "metadata": {
        "colab": {
          "base_uri": "https://localhost:8080/",
          "height": 0
        },
        "id": "WWqAGLfSJ2ol",
        "outputId": "7f2a160b-3280-4f42-a94a-0a7c604d8b00"
      },
      "execution_count": 57,
      "outputs": [
        {
          "output_type": "stream",
          "name": "stdout",
          "text": [
            "Matrice completa del sistema:\n",
            "[[15. -6.  1.  2.  9.]\n",
            " [ 1. 10. -2.  5. 37.]\n",
            " [-4.  1. 10. -3. 43.]\n",
            " [-5. -2. -1. 10.  3.]]\n",
            "Indice di condizionamento: 2.124514450078569\n",
            "Soluzione carta e penna:\n",
            "[[2.]\n",
            " [4.]\n",
            " [5.]\n",
            " [1.]]\n",
            "Soluzione numpy.linalg.solve:\n",
            "[[1.362273901808785]\n",
            " [3.496640826873385]\n",
            " [5.154005167958656]\n",
            " [2.195865633074936]]\n"
          ]
        }
      ]
    },
    {
      "cell_type": "code",
      "source": [
        "print(\"\\nSoluzione con metodo di Jacobi\")\n",
        "xJacobi, stimaErrore, nIter = jacobi(A, b, x0, toll, nMax)\n",
        "print(xJacobi)\n",
        "print(\"nIter Jacobi:\", nIter)\n",
        "\n",
        "errRel = np.linalg.norm(xJacobi-xVero, np.inf) / \\\n",
        "        np.linalg.norm(xVero, np.inf)\n",
        "print(\"errore relativo Jacobi:\", errRel)"
      ],
      "metadata": {
        "colab": {
          "base_uri": "https://localhost:8080/",
          "height": 0
        },
        "id": "C7I5ADJLBg7Y",
        "outputId": "88eb36c6-52aa-419f-e041-2c7bf94f82b4"
      },
      "execution_count": 58,
      "outputs": [
        {
          "output_type": "stream",
          "name": "stdout",
          "text": [
            "\n",
            "Soluzione con metodo di Jacobi\n",
            "[[1.362273901808787]\n",
            " [3.496640826873386]\n",
            " [5.154005167958654]\n",
            " [2.195865633074935]]\n",
            "nIter Jacobi: 54\n",
            "errore relativo Jacobi: 0.23917312661498702\n"
          ]
        }
      ]
    },
    {
      "cell_type": "code",
      "source": [
        "print(\"\\nSoluzione con metodo di Jacobi con decomposizione\")\n",
        "xJacobi, stimaErrore, nIter = jacobi_decomposizione(A, b, x0, toll, nMax)\n",
        "print(xJacobi)\n",
        "print(\"stimaErrore Jacobi:\", stimaErrore)\n",
        "print(\"nIter Jacobi:\", nIter)\n",
        "\n",
        "errRel = np.linalg.norm(xJacobi-xVero, np.inf) / \\\n",
        "        np.linalg.norm(xVero, np.inf)\n",
        "print(\"errore relativo Jacobi:\", errRel)"
      ],
      "metadata": {
        "colab": {
          "base_uri": "https://localhost:8080/",
          "height": 0
        },
        "id": "8dhAe7xIB56N",
        "outputId": "764ba4ee-d090-4be6-8860-94c5e1a27dd7"
      },
      "execution_count": 59,
      "outputs": [
        {
          "output_type": "stream",
          "name": "stdout",
          "text": [
            "\n",
            "Soluzione con metodo di Jacobi con decomposizione\n",
            "[[1.362273901808787]\n",
            " [3.496640826873387]\n",
            " [5.154005167958655]\n",
            " [2.195865633074935]]\n",
            "stimaErrore Jacobi: 6.893112371883056e-16\n",
            "nIter Jacobi: 53\n",
            "errore relativo Jacobi: 0.23917312661498702\n"
          ]
        }
      ]
    },
    {
      "cell_type": "code",
      "source": [
        "print(\"\\nSoluzione con metodo di Jacobi con decomposizione e ottimizzazione\")\n",
        "xJacobiDEC_OPT, stimaErroreDEC_OPT, nIterDEC_OPT = jacobi_decomposizione_ottimizzato(A, b, x0, toll, nMax)\n",
        "print(xJacobiDEC_OPT) \n",
        "print(\"stimaErrore Jacobi:\", stimaErroreDEC_OPT)\n",
        "print(\"nIter Jacobi:\", nIterDEC_OPT)\n",
        "\n",
        "errRel = np.linalg.norm(xJacobiDEC_OPT-xVero, np.inf) / \\\n",
        "        np.linalg.norm(xVero, np.inf)\n",
        "print(\"errore relativo Jacobi:\", errRel)"
      ],
      "metadata": {
        "colab": {
          "base_uri": "https://localhost:8080/",
          "height": 0
        },
        "id": "qv-RyRc6eJLV",
        "outputId": "00a692e6-5f57-4c09-e509-9e54f9067139"
      },
      "execution_count": 60,
      "outputs": [
        {
          "output_type": "stream",
          "name": "stdout",
          "text": [
            "\n",
            "Soluzione con metodo di Jacobi con decomposizione e ottimizzazione\n",
            "[[1.362273901808787]\n",
            " [3.496640826873386]\n",
            " [5.154005167958655]\n",
            " [2.195865633074935]]\n",
            "stimaErrore Jacobi: 6.893112371883056e-16\n",
            "nIter Jacobi: 53\n",
            "errore relativo Jacobi: 0.23917312661498702\n"
          ]
        }
      ]
    },
    {
      "cell_type": "code",
      "source": [
        "print(\"\\nSoluzione con metodo di Gauss-Seidel\")\n",
        "xGaussSeidel, stimaErrore, nIter = gauss_seidel(A, b, x0, toll, nMax)\n",
        "print(xGaussSeidel)\n",
        "print(\"stimaErrore GaussSeidel:\", stimaErrore)\n",
        "print(\"nIter GaussSeidel:\", nIter)\n",
        "\n",
        "errRel = np.linalg.norm(xGaussSeidel-xVero, np.inf) / \\\n",
        "        np.linalg.norm(xVero, np.inf)\n",
        "print(\"errore relativo GaussSeidel:\", errRel)"
      ],
      "metadata": {
        "colab": {
          "base_uri": "https://localhost:8080/",
          "height": 0
        },
        "id": "L9VhNFDDBlww",
        "outputId": "dc48178f-95b2-487e-81ff-6778d0c92b1d"
      },
      "execution_count": 61,
      "outputs": [
        {
          "output_type": "stream",
          "name": "stdout",
          "text": [
            "\n",
            "Soluzione con metodo di Gauss-Seidel\n",
            "[[1.362273901808786]\n",
            " [3.496640826873384]\n",
            " [5.154005167958656]\n",
            " [2.195865633074936]]\n",
            "stimaErrore GaussSeidel: 3.4465561859415265e-16\n",
            "nIter GaussSeidel: 33\n",
            "errore relativo GaussSeidel: 0.2391731266149871\n"
          ]
        }
      ]
    },
    {
      "cell_type": "code",
      "source": [
        "print(\"\\nSoluzione con metodo di Gauss-Seidel con decomposizione\")\n",
        "xGaussSeidelDEC, stimaErroreDEC, nIterDEC = gauss_seidel_decomposizione(A, b, x0, toll, nMax)\n",
        "print(xGaussSeidelDEC) \n",
        "print(\"stimaErrore GaussSeidel:\", stimaErroreDEC)\n",
        "print(\"nIter GaussSeidel:\", nIterDEC)\n",
        "\n",
        "errRelDEC = np.linalg.norm(xGaussSeidelDEC-xVero, np.inf) / \\\n",
        "        np.linalg.norm(xVero, np.inf)\n",
        "print(\"errore relativo GaussSeidel:\", errRelDEC)"
      ],
      "metadata": {
        "colab": {
          "base_uri": "https://localhost:8080/",
          "height": 0
        },
        "id": "ez2vzLr8E5xd",
        "outputId": "ae1e0814-0754-4e40-e3e1-f2b30d659dcf"
      },
      "execution_count": 62,
      "outputs": [
        {
          "output_type": "stream",
          "name": "stdout",
          "text": [
            "\n",
            "Soluzione con metodo di Gauss-Seidel con decomposizione\n",
            "[[1.362273901808786]\n",
            " [3.496640826873385]\n",
            " [5.154005167958656]\n",
            " [2.195865633074936]]\n",
            "stimaErrore GaussSeidel: 1.7232780929707633e-16\n",
            "nIter GaussSeidel: 33\n",
            "errore relativo GaussSeidel: 0.23917312661498719\n"
          ]
        }
      ]
    },
    {
      "cell_type": "code",
      "source": [
        "print(\"\\nSoluzione con metodo di Gauss-Seidel con decomposizione e ottimizzazione\")\n",
        "xGaussSeidelDEC_OPT, stimaErroreDEC_OPT, nIterDEC_OPT = gauss_seidel_decomposizione_ottimizzato(A, b, x0, toll, nMax)\n",
        "print(xGaussSeidelDEC) \n",
        "print(\"stimaErrore GaussSeidel:\", stimaErroreDEC_OPT)\n",
        "print(\"nIter GaussSeidel:\", nIterDEC_OPT)\n",
        "\n",
        "errRelDEC_OPT = np.linalg.norm(xGaussSeidelDEC_OPT-xVero, np.inf) / \\\n",
        "        np.linalg.norm(xVero, np.inf)\n",
        "print(\"errore relativo GaussSeidel:\", errRelDEC_OPT)"
      ],
      "metadata": {
        "colab": {
          "base_uri": "https://localhost:8080/",
          "height": 0
        },
        "id": "GCk1YgI9e0Zr",
        "outputId": "dd30f778-48ec-4edc-e7e3-24c8eb3713ff"
      },
      "execution_count": 63,
      "outputs": [
        {
          "output_type": "stream",
          "name": "stdout",
          "text": [
            "\n",
            "Soluzione con metodo di Gauss-Seidel con decomposizione e ottimizzazione\n",
            "[[1.362273901808786]\n",
            " [3.496640826873385]\n",
            " [5.154005167958656]\n",
            " [2.195865633074936]]\n",
            "stimaErrore GaussSeidel: 3.4465561859415265e-16\n",
            "nIter GaussSeidel: 33\n",
            "errore relativo GaussSeidel: 0.2391731266149871\n"
          ]
        }
      ]
    },
    {
      "cell_type": "code",
      "source": [
        "xNumpy = np.linalg.solve(A, b)\n",
        "print(\"Soluzione numpy.linalg.solve:\")\n",
        "print(xNumpy)"
      ],
      "metadata": {
        "colab": {
          "base_uri": "https://localhost:8080/",
          "height": 0
        },
        "id": "lfuZoYAXBogM",
        "outputId": "60acddb0-7f9a-42b2-e145-8d4b8debe29d"
      },
      "execution_count": 64,
      "outputs": [
        {
          "output_type": "stream",
          "name": "stdout",
          "text": [
            "Soluzione numpy.linalg.solve:\n",
            "[[1.362273901808785]\n",
            " [3.496640826873385]\n",
            " [5.154005167958656]\n",
            " [2.195865633074936]]\n"
          ]
        }
      ]
    }
  ]
}